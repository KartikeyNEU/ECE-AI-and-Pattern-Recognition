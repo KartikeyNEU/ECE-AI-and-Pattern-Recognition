{
 "cells": [
  {
   "attachments": {},
   "cell_type": "markdown",
   "metadata": {},
   "source": [
    "# Problem 1.1 \n",
    "**Part A**"
   ]
  },
  {
   "cell_type": "code",
   "execution_count": 1,
   "metadata": {},
   "outputs": [],
   "source": [
    "import matplotlib.pyplot as plt\n",
    "import numpy as np\n",
    "from matplotlib import colors\n",
    "from matplotlib.ticker import PercentFormatter\n",
    "from scipy.stats import multivariate_normal\n",
    "import pandas as pd\n",
    "from random import random\n",
    "\n",
    "# Defining perameters\n",
    "rng = np.random.default_rng()\n",
    "mean0 = (-1, 1, -1, 1)\n",
    "cov0 = np.array([[2, -0.5, 0.3, 0], [-0.5, 1, -0.5, 0], [0.3, -0.5, 1, 0], [0, 0, 0, 2]])\n",
    "\n",
    "mean1 = (1, 1, 1, 1)\n",
    "cov1 = np.array([[1, 0.3, -0.2, 0], [0.3, 2, 0.3, 0], [-0.2, 0.3, 1, 0], [0, 0, 0, 3]])\n",
    "\n",
    "prior0 = 0.7 \n",
    "prior1 = 0.3"
   ]
  },
  {
   "cell_type": "code",
   "execution_count": 16,
   "metadata": {},
   "outputs": [],
   "source": [
    "# Lets Generate some data \n",
    "randoms = [] # contains all the random testing values. \n",
    "rnd0 = [] # for testing\n",
    "rnd1 = [] # for testing\n",
    "\n",
    "# takes into account and splits up the data using the priors\n",
    "# keeps track of the classifers (0 and 1)\n",
    "for i in range(10000):\n",
    "  rnd = random()\n",
    "  if rnd <= 0.7:\n",
    "    rnd0.append(rnd)\n",
    "    randoms.append([rnd,0])\n",
    "  if rnd > 0.7:\n",
    "    rnd1.append(rnd)\n",
    "    randoms.append([rnd,1])\n",
    "\n",
    "randoms = np.array(randoms)\n",
    "\n",
    "# okay, now lets finally generate the X values \n",
    "X = [] # Completed 4 vector dataset \n",
    "x0 = [] # testing\n",
    "x1 = [] # testing\n",
    "Xi = [] # array containing the classification of the data\n",
    "for i in range(len(randoms)):\n",
    "  if randoms[i, 1] == 0:\n",
    "    x0.append(rng.multivariate_normal(mean0, cov0))\n",
    "    X.append(rng.multivariate_normal(mean0, cov0))\n",
    "    Xi.append(0)\n",
    "  if randoms[i, 1] == 1:\n",
    "    x1.append(rng.multivariate_normal(mean1, cov1))\n",
    "    X.append(rng.multivariate_normal(mean1, cov1))\n",
    "    Xi.append(1)\n",
    "# data has been generated and classified - stored in 2 data buckets X and Xi (classifier)\n",
    "\n",
    "# Liklyhoods\n",
    "pdfx0 = multivariate_normal.pdf(X, mean0, cov0)\n",
    "pdfx1 = multivariate_normal.pdf(X, mean1, cov1)\n",
    "likelyhood = pdfx1/pdfx0"
   ]
  },
  {
   "cell_type": "code",
   "execution_count": 17,
   "metadata": {},
   "outputs": [],
   "source": [
    "# increase gamma from 0 -> pseudo-infinity\n",
    "# for each gamma, run the likley hood test\n",
    "#\n",
    "tsteps = np.arange(0, 100, 0.01) # vary the gamma values \n",
    "#tsteps = np.append(tsteps,np.arange(100,1000,10))\n",
    "#tsteps = np.append(tsteps,np.arange(1000,900000000000,1000000000))\n",
    "#tsteps = np.arange(0,100,0.1)\n",
    "#tsteps = [2]\n",
    "Xguess = np.empty([len(X),len(tsteps)])\n",
    "Xguess_th = []\n",
    "\n",
    "gamma_th = prior1/prior0\n",
    "\n",
    "# Making pridictions\n",
    "# compares the likleyhood to changing gamma values\n",
    "for t in enumerate(tsteps) : # for every gamma value\n",
    "    for j in enumerate(likelyhood): # run the compare to the likelyhood of the X values\n",
    "        #false state \n",
    "        if j[1] >= t[1]:\n",
    "            Xguess[j[0]][t[0]] = 1\n",
    "        #true state \n",
    "        if j[1] < t[1]:\n",
    "            Xguess[j[0]][t[0]] = 0\n",
    "\n",
    "# Calculate the rates for the theoritical value\n",
    "#returns a 1 x 10000 array\n",
    "for j in enumerate(likelyhood): # run the compare to the likelyhood of the X values\n",
    "        #false state \n",
    "        if j[1] >= gamma_th:\n",
    "            Xguess_th.append(1)\n",
    "        #true state \n",
    "        if j[1] < gamma_th:\n",
    "            Xguess_th.append(0)"
   ]
  },
  {
   "cell_type": "code",
   "execution_count": 18,
   "metadata": {},
   "outputs": [],
   "source": [
    "# Count the number of true positives (00)\n",
    "def True_Positives(arr1, arr2): \n",
    "    counter = 0\n",
    "    for c in enumerate(arr1):\n",
    "        if c[1] == arr2[c[0]] and c[1] == 0:\n",
    "            counter = counter + 1 \n",
    "    return counter\n",
    "\n",
    "# Count the number of True Negatives (11)\n",
    "def True_Negatives(arr1, arr2):\n",
    "    counter = 0\n",
    "    for c in enumerate(arr1):\n",
    "        if c[1] == arr2[c[0]] and c[1] == 1:\n",
    "            counter = counter + 1 \n",
    "    return counter\n",
    "\n",
    "# Count the number of True Negatives \n",
    "def False_Positives(arr1, arr2):\n",
    "    counter = 0\n",
    "    for c in enumerate(arr1):\n",
    "        if arr2[c[0]] == 0 and c[1] == 1:\n",
    "            counter = counter + 1 \n",
    "    return counter\n",
    "\n",
    "# Count the number of True Negatives \n",
    "def False_Negatives(arr1, arr2):\n",
    "    counter = 0\n",
    "    for c in enumerate(arr1):\n",
    "        if arr2[c[0]] == 1 and c[1] == 0:\n",
    "            counter = counter + 1 \n",
    "    return counter"
   ]
  },
  {
   "cell_type": "code",
   "execution_count": 19,
   "metadata": {},
   "outputs": [],
   "source": [
    "TPR = np.zeros(len(tsteps))\n",
    "for i in range (len(tsteps)):\n",
    "    arr = Xguess[:,i] \n",
    "    #print(True_Positives(Xi, arr))\n",
    "    TPR[i] = (True_Positives(Xi, arr)/(len( x0)))\n",
    "\n",
    "FPR= np.zeros(len(tsteps))\n",
    "for i in range (len(tsteps)):\n",
    "    arr = Xguess[:,i] \n",
    "   # print(False_Positives(Xi, arr))\n",
    "   # No_FP[i] = (False_Positives(Xi, arr)/(len(x1)))\n",
    "    FPR[i] = (False_Positives(Xi, arr))/(len(x1))\n",
    "\n",
    "FNR = np.zeros(len(tsteps))\n",
    "for i in range (len(tsteps)):\n",
    "    arr = Xguess[:,i] \n",
    "   # print(False_Positives(Xi, arr))\n",
    "   # No_FP[i] = (False_Positives(Xi, arr)/(len(x1)))\n",
    "    FNR[i] = (False_Negatives(Xi, arr))/(len(x0))\n",
    "\n",
    "# for Xguess_theoretical values \n",
    "FPR_th = False_Positives(Xi, Xguess_th)/(len(x1))\n",
    "TPR_th = True_Positives(Xi, Xguess_th)/(len(x0))\n",
    "\n"
   ]
  },
  {
   "cell_type": "code",
   "execution_count": 22,
   "metadata": {},
   "outputs": [
    {
     "name": "stdout",
     "output_type": "stream",
     "text": [
      "49\n"
     ]
    }
   ],
   "source": [
    "# Calculate the error probabily for each gamma\n",
    "#error_probability = false_positive_rate * PY0 + false_negative_rate * PY1;\n",
    "P_error = [] \n",
    "for i in range(len(tsteps)): # for each of the gammas \n",
    "    P_error.append((FPR[i] * prior0) + (FNR[i] * prior1))\n",
    "\n",
    "P_error = np.array(P_error)\n",
    "\n",
    "print(np.argmin(P_error))\n",
    "\n",
    "emperical_error = P_error[np.argmin(P_error)]\n",
    "emperical_gamma = tsteps[np.argmin(P_error)]\n",
    "emperical_FPRopt = FPR[np.argmin(P_error)]\n",
    "emperical_TPRopt = TPR[np.argmin(P_error)]\n"
   ]
  },
  {
   "cell_type": "code",
   "execution_count": 23,
   "metadata": {},
   "outputs": [
    {
     "data": {
      "image/png": "[encoded data removed]",
      "text/plain": [
       "<Figure size 640x480 with 1 Axes>"
      ]
     },
     "metadata": {},
     "output_type": "display_data"
    }
   ],
   "source": [
    "\n",
    "# theoretical gamma \n",
    "plt.plot(FPR,TPR)\n",
    "plt.plot(FPR_th,TPR_th,marker = 'o', markersize = 5)\n",
    "plt.plot(emperical_FPRopt,emperical_TPRopt,marker = 'x', markersize = 5)\n",
    "plt.xlabel(\"False Positive Rate\")\n",
    "plt.ylabel(\"True Positive Rate\")\n",
    "plt.title(\"ROC curve\")\n",
    "plt.grid(True)\n"
   ]
  },
  {
   "cell_type": "code",
   "execution_count": null,
   "metadata": {},
   "outputs": [],
   "source": []
  }
 ],
 "metadata": {
  "kernelspec": {
   "display_name": "Python 3",
   "language": "python",
   "name": "python3"
  },
  "language_info": {
   "codemirror_mode": {
    "name": "ipython",
    "version": 3
   },
   "file_extension": ".py",
   "mimetype": "text/x-python",
   "name": "python",
   "nbconvert_exporter": "python",
   "pygments_lexer": "ipython3",
   "version": "3.10.9"
  },
  "orig_nbformat": 4
 },
 "nbformat": 4,
 "nbformat_minor": 2
}
